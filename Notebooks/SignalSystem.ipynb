{
 "cells": [
  {
   "cell_type": "markdown",
   "id": "3e95fdf6",
   "metadata": {},
   "source": [
    "# 信號與系統\n",
    "\n",
    "## 信號種類\n",
    "\n",
    "信號(signal)就是代表資訊(information)的數學函數。信號$s(t)$之平均值及平均功率可表為  \n",
    "$ \\mbox{信號平均值:}<s(t)> \\triangleq \\lim\\limits_{T \\rightarrow \\infty} \\frac{1}{T} \\int_{-T/2}^{T/2} s(t)dt $  \n",
    "$ \\mbox{平均功率:}P=<|s(t)|^2> \\triangleq \\lim\\limits_{T \\rightarrow \\infty} \\frac{1}{T} \\int_{-T/2}^{T/2} |s(t)|^2dt $  \n",
    "\n",
    "信號依其特性，可有幾種分類方式：\n",
    "\n",
    "1. 週期性/非週期性信號  \n",
    "$\\mbox{週期性信號： } \\exists T_0, s(t\\pm mT_0)=s(t), \\ -\\infty<t<\\infty, \\ m\\mbox{:integer}$  \n",
    "週期性信號之平均值及平均功率可改為  \n",
    "$ \\mbox{信號平均值:}<s(t)> \\triangleq \\lim\\limits_{T \\rightarrow \\infty} \\frac{1}{T} \\int_{-T/2}^{T/2} s(t)dt= \\frac{1}{T_0} \\int_{-T_0/2}^{T_0/2} s(t)dt=\\frac{1}{T_0} \\int_{T_0}s(t)dt$  \n",
    "$ \\mbox{信號平均功率:}P=<|s(t)|^2> \\triangleq \\lim\\limits_{T \\rightarrow \\infty} \\frac{1}{T} \\int_{-T/2}^{T/2} |s(t)|^2dt==\\frac{1}{T_0} \\int_{T_0}|s(t)|^2dt $  \n",
    "2. 能量/功率型信號  \n",
    "$ \\mbox{能量型信號: } E\\triangleq \\int_{-\\infty}^{\\infty} |s(t)|^2dt< \\infty $  \n",
    "$ \\mbox{功率型信號: } 0<P <\\infty \\ \\mbox{ i.e., }\\  0< \\lim\\limits_{T \\rightarrow \\infty} \\frac{1}{T} \\int_{-T/2}^{T/2} |s(t)|^2dt < \\infty $  \n",
    "一般而言，週期性信號為功率型信號，而非週期性信號多為能量型信號  \n",
    "3. 隨機/明確信號(random/deterministic signals)  \n",
    "4. 因果/非因果信號  \n",
    "$ \\mbox{因果信號： } s(t)=0, \\ \\mbox{ for } t<t_0$  \n",
    "5. 對稱/非對稱信號  \n",
    "對稱信號可有兩種：  \n",
    "$ \\mbox{偶對稱: } s(-t)=s(t) $  \n",
    "$ \\mbox{奇對稱: } s(-t)=-s(t) $\n"
   ]
  },
  {
   "cell_type": "markdown",
   "id": "55416047",
   "metadata": {},
   "source": [
    "## 系統特性\n",
    "\n",
    "### 何謂系統？  \n",
    "\n",
    "任何可將一輸入信號$x(t)$轉換成另一個輸出信號$y(t)$之裝置皆可稱之為系統，可表為 $x(t)\\rightarrow y(t)$。\n",
    "\n",
    "### 線性與非線性\n",
    "\n",
    "若系統輸入$x_1(t),x_2(t)$分別產生$y_1(t),y_2(t)$，即  \n",
    "$x_1(t) \\rightarrow y_1(t)$  \n",
    "$x_2(t) \\rightarrow y_2(t)$  \n",
    "則輸入線性組合信號$ax_1(t)+bx_2(t)$時，系統輸出亦為原輸出信號組合$ay_1(t)+by_2(t)$，即    \n",
    "$ax_1(t)+bx_2(t) \\rightarrow ay_1(t)+by_2(t)$  \n",
    "則此系統為線性系統，否則為非線性系統。\n",
    "\n",
    "### 時變與非時變\n",
    "\n",
    "系統特性不因時間而改變謂之非時變系統，否則為時變系統。\n",
    "\n",
    "### 因果與非因果\n",
    "\n",
    "未輸入信號信號，無信號輸出，信號輸入後，才會有信號輸出之系統謂之因果系統；否則為非因果系統。\n",
    "\n",
    "本課程主要探討線性非時變(linear time-invariant)因果系統，其系統特性可以脈衝響應$h(t)$。  \n",
    "脈衝響應為系統接受脈衝$\\delta(t)$輸入信號所產生之輸出信號$h(t)$，即 $\\delta(t) \\rightarrow h(t)$\n",
    "\n",
    "而線性非時變系統對於任一輸入信號轉換之輸出信號$y(t)$可表為輸入信號$x(t)$與系統脈衝響應$h(t)$之迴旋積分：\n",
    "\n",
    "$\n",
    "\\begin{align}\n",
    "y(t) &= x(t) \\star h(t) \\\\\n",
    " &= \\int_{-\\infty}^{\\infty}h(\\tau)x(t-\\tau)d\\tau \\\\\n",
    "  &= \\int_{-\\infty}^{\\infty}x(\\tau)h(t-\\tau)d\\tau \\\\\n",
    "  &=  h(t) \\star x(t)\n",
    "\\end{align}\n",
    "$\n",
    "\n",
    "若$x(t)$為一弦波信號$x(t)=A_0e^{j2\\pi f_0t}$，則輸出信號$y(t)$可表為\n",
    "\n",
    "$\\begin{align}\n",
    "y(t)&=A_0\\left[\\int_{-\\infty}^{\\infty}h(\\tau)e^{-j2\\pi f_0 \\tau}d\\tau\\right]e^{j2\\pi f_0 t} \\\\\n",
    " &= H(f)|_{f=f_0}x(t) \\end{align}$\n",
    "\n",
    "其中，\n",
    "\n",
    "$H(f)=\\int_{-\\infty}^{\\infty}h(t)e^{-j2\\pi ft}dt\\ $稱之為系統頻率響應(Frequency Response)，是系統脈衝響應的傅立葉轉換(Fourier Transform)；  \n",
    "因此，若輸入信號可表為不同頻率弦波信號組合，則線性非時變系統之輸出信號亦可表為不同頻率弦波信號組合\n",
    "\n",
    "$\\begin{align}\n",
    "x(t)&=\\sum\\limits_{i} A_i e^{j2\\pi f_i t} \\\\\n",
    "y(t)&=\\sum\\limits_{i} A_i H(f_i) e^{j2\\pi f_i t} \n",
    "\\end{align}$"
   ]
  },
  {
   "cell_type": "markdown",
   "id": "006956e6",
   "metadata": {},
   "source": [
    "## 週期性信號與頻譜(傅立葉級數，Fourier series)\n",
    "\n",
    "一具週期$T_0$之信號$x(t)$可表為  \n",
    "$ x(t)=\\sum_{n= -\\infty}^{\\infty} x_n e^{j2\\pi nf_0t}$  \n",
    "其中，$f_0=\\frac{1}{T_0}$稱之為信號的基本頻率，$x_n$為$n$倍頻($nf_0$)傅立葉級數係數   \n",
    "$x_n=\\frac{1}{T_0} \\int_{T_0} x(t)e^{-j2\\pi n f_0 t}dt$  \n",
    "此形式之$x_n$謂之指數型傅立葉級數係數，其值一般為複數型態。  \n",
    "\n",
    "若$x(t)$為實數信號，則滿足  \n",
    "$x_{-n}=x_n^*$, i.e.,  \n",
    "$|x_n|=|x_{-n}|$  \n",
    "$\\angle x_n = -\\angle x_{-n}$  \n",
    "此與三角函數型傅立葉級數係數($a_n,b_n$)關係如下  \n",
    "$x_n=\\frac{a_n+jb_n}{2}$  \n",
    "$x_{-n}=\\frac{a_n-jb_n}{2}$  \n",
    "$a_n=x_n+x_{-n}=\\frac{2}{T_0} \\int_{T_0} x(t)\\cos(2\\pi nf_0 t) dt $  \n",
    "$b_n=x_n-x_{-n}=\\frac{2}{T_0} \\int_{T_0} x(t)\\sin(2\\pi nf_0 t) dt $  "
   ]
  },
  {
   "cell_type": "code",
   "execution_count": 1,
   "id": "af15c5c2",
   "metadata": {},
   "outputs": [
    {
     "data": {
      "image/png": "[encoded data removed]",
      "text/plain": [
       "<IPython.core.display.Image object>"
      ]
     },
     "metadata": {},
     "output_type": "display_data"
    }
   ],
   "source": [
    "function xx=myfseries(funfcn,a,b,n)\n",
    "%FSERIES    Returns the Fourier series coefficients.\n",
    "%       XX=FSERIES(FUNFCN,A,B,N,TOL,P1,P2,P3)\n",
    "%       funfcn=the given function, in an m-file.\n",
    "%       It can depend on up to three parameters\n",
    "%       p1,p2, and p3. The function is given\n",
    "%       over one period extending from 'a' to 'b'\n",
    "%       xx=vector of length n+1 of Fourier Series\n",
    "%       Coefficients, xx0,xx1,...,xxn.\n",
    "%       p1,p2,p3=parameters of funfcn. \n",
    "%       tol=the error level.\n",
    "\n",
    "    j=sqrt(-1);\n",
    "    t=(b-a);\n",
    "    %xx(1)=(1/t)*integral(funfcn,a,b);\n",
    "    xx(1)=(1/t)*quadgk(funfcn,a,b);\n",
    "\n",
    "    for i=1:n\n",
    "    %  cfun = @(x,k,T) cos(2*pi*x*k/T).*funfcn(x);\n",
    "    %  sfun = @(x,k,T) sin(-2*pi*x*k/T).*funfcn(x);\n",
    "    %  xx(i+1)=integral(@(x) cfun(x,i,t),a,b) + j*integral(@(x) sfun(x,i,t),a,b);\n",
    "      ifun = @(x,k,T) exp(-j*2*pi*x*k/T).*funfcn(x);\n",
    "      xx(i+1)=(1/t)*quadgk(@(x) ifun(x,i,t),a,b);\n",
    "    end\n",
    "endfunction      \n",
    "% MATLAB script for Illustrative Problem 1.1.\n",
    "n=[-20:1:20];\n",
    "x_actual=abs(sinc(n/2));\n",
    "figure\n",
    "stem(n,x_actual);"
   ]
  },
  {
   "cell_type": "markdown",
   "id": "cc074ae6",
   "metadata": {},
   "source": [
    "## 非週期性信號與頻譜(傅立葉轉換，Fourier transform)\n"
   ]
  }
 ],
 "metadata": {
  "kernelspec": {
   "display_name": "Octave",
   "language": "octave",
   "name": "octave"
  },
  "language_info": {
   "file_extension": ".m",
   "help_links": [
    {
     "text": "GNU Octave",
     "url": "https://www.gnu.org/software/octave/support.html"
    },
    {
     "text": "Octave Kernel",
     "url": "https://github.com/Calysto/octave_kernel"
    },
    {
     "text": "MetaKernel Magics",
     "url": "https://metakernel.readthedocs.io/en/latest/source/README.html"
    }
   ],
   "mimetype": "text/x-octave",
   "name": "octave",
   "version": "6.4.0"
  }
 },
 "nbformat": 4,
 "nbformat_minor": 5
}
